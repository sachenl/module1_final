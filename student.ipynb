{
 "cells": [
  {
   "cell_type": "markdown",
   "metadata": {},
   "source": [
    "## Final Project Submission\n",
    "\n",
    "Please fill out:\n",
    "* Student name: Zhiqiang Sun\n",
    "* Student pace: self paced \n",
    "* Scheduled project review date/time: \n",
    "* Instructor name: \n",
    "* Blog post URL:\n"
   ]
  },
  {
   "cell_type": "markdown",
   "metadata": {},
   "source": [
    "## The Project\n",
    "Microsoft sees all the big companies creating original video content, and they want to get in on the fun. They have decided to create a new movie studio, but the problem is they don’t know anything about creating movies. They have hired you to help them better understand the movie industry. Your team is charged with doing data analysis and creating a presentation that explores what type of films are currently doing the best at the box office. You must then translate those findings into actionable insights that the CEO can use when deciding what type of films they should be creating."
   ]
  },
  {
   "cell_type": "markdown",
   "metadata": {},
   "source": [
    "Student name: Zhiqiang Sun\n",
    "Student pace: self paced \n",
    "Scheduled project review date/time: \n",
    "Instructor name: Jeff Herman\n",
    "\n",
    "Blog post URL"
   ]
  },
  {
   "cell_type": "code",
   "execution_count": 3,
   "metadata": {},
   "outputs": [],
   "source": [
    "#import all necessary library\n",
    "import pandas as pd\n",
    "import matplotlib.pyplot as plt\n",
    "%matplotlib inline"
   ]
  },
  {
   "cell_type": "code",
   "execution_count": 4,
   "metadata": {},
   "outputs": [],
   "source": [
    "# import all the data to dataframe from the given database\n",
    "\n",
    "import pandas as pd\n",
    " \n",
    "\n",
    "bom_movie_gross = pd.read_csv('bom.movie_gross.csv')\n",
    "\n",
    "rt_movie_info  = pd.read_csv(\"rt.movie_info.tsv\",  encoding= 'unicode_escape', sep='\\t')\n",
    "rt_reviews = pd.read_csv(\"rt.reviews.tsv\", encoding= 'unicode_escape', sep='\\t')\n",
    "\n",
    "IMDB_name_base = pd.read_csv('name.basics.csv')\n",
    "IMDB_akas = pd.read_csv('title.akas.csv')\n",
    "IMDB_basics = pd.read_csv('title.basics.csv')\n",
    "IMDB_crew = pd.read_csv('title.crew.csv')\n",
    "IMDB_principals = pd.read_csv('title.principals.csv')\n",
    "IMDB_rating = pd.read_csv('title.ratings.csv')\n",
    "\n",
    "tmdb_movies = pd.read_csv('tmdb.movies.csv')\n",
    "\n",
    "tn_movie_budgets = pd.read_csv('tn.movie_budgets.csv')"
   ]
  },
  {
   "cell_type": "code",
   "execution_count": 5,
   "metadata": {},
   "outputs": [
    {
     "name": "stdout",
     "output_type": "stream",
     "text": [
      "bom_movie_gross 3387 Index(['title', 'studio', 'domestic_gross', 'foreign_gross', 'year'], dtype='object')\n",
      "rt_movie_info 1560 Index(['id', 'synopsis', 'rating', 'genre', 'director', 'writer',\n",
      "       'theater_date', 'dvd_date', 'currency', 'box_office', 'runtime',\n",
      "       'studio'],\n",
      "      dtype='object')\n",
      "rt_reviews 54432 Index(['id', 'review', 'rating', 'fresh', 'critic', 'top_critic', 'publisher',\n",
      "       'date'],\n",
      "      dtype='object')\n",
      "IMDB_name_base 606648 Index(['nconst', 'primary_name', 'birth_year', 'death_year',\n",
      "       'primary_profession', 'known_for_titles'],\n",
      "      dtype='object')\n",
      "IMDB_akas 331703 Index(['title_id', 'ordering', 'title', 'region', 'language', 'types',\n",
      "       'attributes', 'is_original_title'],\n",
      "      dtype='object')\n",
      "IMDB_basics 146144 Index(['tconst', 'primary_title', 'original_title', 'start_year',\n",
      "       'runtime_minutes', 'genres'],\n",
      "      dtype='object')\n",
      "IMDB_crew 146144 Index(['tconst', 'directors', 'writers'], dtype='object')\n",
      "IMDB_principals 1028186 Index(['tconst', 'ordering', 'nconst', 'category', 'job', 'characters'], dtype='object')\n",
      "IMDB_rating 73856 Index(['tconst', 'averagerating', 'numvotes'], dtype='object')\n",
      "tmdb_movies 26517 Index(['Unnamed: 0', 'genre_ids', 'id', 'original_language', 'original_title',\n",
      "       'popularity', 'release_date', 'title', 'vote_average', 'vote_count'],\n",
      "      dtype='object')\n",
      "tn_movie_budgets 5782 Index(['id', 'release_date', 'movie', 'production_budget', 'domestic_gross',\n",
      "       'worldwide_gross'],\n",
      "      dtype='object')\n"
     ]
    }
   ],
   "source": [
    "print('bom_movie_gross', len(bom_movie_gross), bom_movie_gross.columns)\n",
    "print('rt_movie_info', len(rt_movie_info), rt_movie_info.columns)\n",
    "print('rt_reviews', len(rt_reviews), rt_reviews.columns)\n",
    "print('IMDB_name_base', len(IMDB_name_base), IMDB_name_base.columns)\n",
    "print('IMDB_akas', len(IMDB_akas), IMDB_akas.columns)\n",
    "print('IMDB_basics', len(IMDB_basics), IMDB_basics.columns)\n",
    "print('IMDB_crew', len(IMDB_crew), IMDB_crew.columns)\n",
    "print('IMDB_principals', len(IMDB_principals), IMDB_principals.columns)\n",
    "print('IMDB_rating', len(IMDB_rating), IMDB_rating.columns)\n",
    "print('tmdb_movies', len(tmdb_movies), tmdb_movies.columns)\n",
    "print('tn_movie_budgets', len(tn_movie_budgets), tn_movie_budgets.columns)\n",
    "\n"
   ]
  },
  {
   "cell_type": "markdown",
   "metadata": {},
   "source": [
    "## Questions for the visulization graph\n",
    "1. How does movie industry growth in these years. Print the graph of the domestic gross and foreign gross as well as the world gross for different years.\n",
    "2. What is average rating as well as the gross earning for different category movies in histogram? Print out the relationship between rating and gross earning.\n",
    "3. What is the total gross and rating of moives making in world for different genres? What is the distribution of top 100 movies which highest earned gross or highest rating. What is the number in 2018.\n"
   ]
  },
  {
   "cell_type": "code",
   "execution_count": 6,
   "metadata": {
    "scrolled": true
   },
   "outputs": [
    {
     "data": {
      "text/html": [
       "<div>\n",
       "<style scoped>\n",
       "    .dataframe tbody tr th:only-of-type {\n",
       "        vertical-align: middle;\n",
       "    }\n",
       "\n",
       "    .dataframe tbody tr th {\n",
       "        vertical-align: top;\n",
       "    }\n",
       "\n",
       "    .dataframe thead th {\n",
       "        text-align: right;\n",
       "    }\n",
       "</style>\n",
       "<table border=\"1\" class=\"dataframe\">\n",
       "  <thead>\n",
       "    <tr style=\"text-align: right;\">\n",
       "      <th></th>\n",
       "      <th>title</th>\n",
       "      <th>studio</th>\n",
       "      <th>domestic_gross</th>\n",
       "      <th>foreign_gross</th>\n",
       "      <th>year</th>\n",
       "    </tr>\n",
       "  </thead>\n",
       "  <tbody>\n",
       "    <tr>\n",
       "      <th>0</th>\n",
       "      <td>Toy Story 3</td>\n",
       "      <td>BV</td>\n",
       "      <td>415000000.0</td>\n",
       "      <td>652000000</td>\n",
       "      <td>2010</td>\n",
       "    </tr>\n",
       "    <tr>\n",
       "      <th>1</th>\n",
       "      <td>Alice in Wonderland (2010)</td>\n",
       "      <td>BV</td>\n",
       "      <td>334200000.0</td>\n",
       "      <td>691300000</td>\n",
       "      <td>2010</td>\n",
       "    </tr>\n",
       "    <tr>\n",
       "      <th>2</th>\n",
       "      <td>Harry Potter and the Deathly Hallows Part 1</td>\n",
       "      <td>WB</td>\n",
       "      <td>296000000.0</td>\n",
       "      <td>664300000</td>\n",
       "      <td>2010</td>\n",
       "    </tr>\n",
       "    <tr>\n",
       "      <th>3</th>\n",
       "      <td>Inception</td>\n",
       "      <td>WB</td>\n",
       "      <td>292600000.0</td>\n",
       "      <td>535700000</td>\n",
       "      <td>2010</td>\n",
       "    </tr>\n",
       "    <tr>\n",
       "      <th>4</th>\n",
       "      <td>Shrek Forever After</td>\n",
       "      <td>P/DW</td>\n",
       "      <td>238700000.0</td>\n",
       "      <td>513900000</td>\n",
       "      <td>2010</td>\n",
       "    </tr>\n",
       "  </tbody>\n",
       "</table>\n",
       "</div>"
      ],
      "text/plain": [
       "                                         title studio  domestic_gross  \\\n",
       "0                                  Toy Story 3     BV     415000000.0   \n",
       "1                   Alice in Wonderland (2010)     BV     334200000.0   \n",
       "2  Harry Potter and the Deathly Hallows Part 1     WB     296000000.0   \n",
       "3                                    Inception     WB     292600000.0   \n",
       "4                          Shrek Forever After   P/DW     238700000.0   \n",
       "\n",
       "  foreign_gross  year  \n",
       "0     652000000  2010  \n",
       "1     691300000  2010  \n",
       "2     664300000  2010  \n",
       "3     535700000  2010  \n",
       "4     513900000  2010  "
      ]
     },
     "execution_count": 6,
     "metadata": {},
     "output_type": "execute_result"
    }
   ],
   "source": [
    "# For the first question, how does movie industry growth in these years. \n",
    "# Print the graph of the domestic_gross and foreign_gross for different years.I used the data from bom_movie_gross\n",
    "bom_movie_gross.head()\n"
   ]
  },
  {
   "cell_type": "code",
   "execution_count": 7,
   "metadata": {},
   "outputs": [],
   "source": [
    "# As the foreign_gross is not float number, I try to change all the str to float number. However, there are some value in \n",
    "# foreigh_gross column can not be convert to float number. I then found all of them and make them to str which can be transfer\n",
    "# number. \n",
    "bom_movie_gross = bom_movie_gross.replace('1,131.6', '1131.6' )\n",
    "bom_movie_gross = bom_movie_gross.replace('1,019.4', '1019.4')\n",
    "bom_movie_gross = bom_movie_gross.replace('1,131.6', '1131.6')\n",
    "bom_movie_gross = bom_movie_gross.replace('1,163.0', '1163.0')\n",
    "bom_movie_gross = bom_movie_gross.replace('1,010.0', '1010.0')\n",
    "bom_movie_gross = bom_movie_gross.replace('1,369.5', '1369.5')\n",
    "\n",
    "# After than, I convert the foreign_gross column to float number and filled all the NaN to 0.\n",
    "bom_movie_gross.foreign_gross = bom_movie_gross.foreign_gross.map(lambda x: float(x))\n",
    "bom_movie_gross = bom_movie_gross.fillna(0)\n",
    "bom_movie_gross['world_gross'] = bom_movie_gross.foreign_gross+ bom_movie_gross.domestic_gross\n",
    "# In order to calculate the total value of domestic and foreign gross over the year from 2010 to 2018, I group the value of\n",
    "# gross by the column year\n",
    "bom_movie_gross_groupby_year = bom_movie_gross.groupby(['year']).sum()\n"
   ]
  },
  {
   "cell_type": "code",
   "execution_count": 8,
   "metadata": {},
   "outputs": [
    {
     "data": {
      "text/html": [
       "<div>\n",
       "<style scoped>\n",
       "    .dataframe tbody tr th:only-of-type {\n",
       "        vertical-align: middle;\n",
       "    }\n",
       "\n",
       "    .dataframe tbody tr th {\n",
       "        vertical-align: top;\n",
       "    }\n",
       "\n",
       "    .dataframe thead th {\n",
       "        text-align: right;\n",
       "    }\n",
       "</style>\n",
       "<table border=\"1\" class=\"dataframe\">\n",
       "  <thead>\n",
       "    <tr style=\"text-align: right;\">\n",
       "      <th></th>\n",
       "      <th>title</th>\n",
       "      <th>studio</th>\n",
       "      <th>domestic_gross</th>\n",
       "      <th>foreign_gross</th>\n",
       "      <th>year</th>\n",
       "      <th>world_gross</th>\n",
       "    </tr>\n",
       "  </thead>\n",
       "  <tbody>\n",
       "    <tr>\n",
       "      <th>0</th>\n",
       "      <td>Toy Story 3</td>\n",
       "      <td>BV</td>\n",
       "      <td>415000000.0</td>\n",
       "      <td>652000000.0</td>\n",
       "      <td>2010</td>\n",
       "      <td>1.067000e+09</td>\n",
       "    </tr>\n",
       "    <tr>\n",
       "      <th>1</th>\n",
       "      <td>Alice in Wonderland (2010)</td>\n",
       "      <td>BV</td>\n",
       "      <td>334200000.0</td>\n",
       "      <td>691300000.0</td>\n",
       "      <td>2010</td>\n",
       "      <td>1.025500e+09</td>\n",
       "    </tr>\n",
       "    <tr>\n",
       "      <th>2</th>\n",
       "      <td>Harry Potter and the Deathly Hallows Part 1</td>\n",
       "      <td>WB</td>\n",
       "      <td>296000000.0</td>\n",
       "      <td>664300000.0</td>\n",
       "      <td>2010</td>\n",
       "      <td>9.603000e+08</td>\n",
       "    </tr>\n",
       "    <tr>\n",
       "      <th>3</th>\n",
       "      <td>Inception</td>\n",
       "      <td>WB</td>\n",
       "      <td>292600000.0</td>\n",
       "      <td>535700000.0</td>\n",
       "      <td>2010</td>\n",
       "      <td>8.283000e+08</td>\n",
       "    </tr>\n",
       "    <tr>\n",
       "      <th>4</th>\n",
       "      <td>Shrek Forever After</td>\n",
       "      <td>P/DW</td>\n",
       "      <td>238700000.0</td>\n",
       "      <td>513900000.0</td>\n",
       "      <td>2010</td>\n",
       "      <td>7.526000e+08</td>\n",
       "    </tr>\n",
       "  </tbody>\n",
       "</table>\n",
       "</div>"
      ],
      "text/plain": [
       "                                         title studio  domestic_gross  \\\n",
       "0                                  Toy Story 3     BV     415000000.0   \n",
       "1                   Alice in Wonderland (2010)     BV     334200000.0   \n",
       "2  Harry Potter and the Deathly Hallows Part 1     WB     296000000.0   \n",
       "3                                    Inception     WB     292600000.0   \n",
       "4                          Shrek Forever After   P/DW     238700000.0   \n",
       "\n",
       "   foreign_gross  year   world_gross  \n",
       "0    652000000.0  2010  1.067000e+09  \n",
       "1    691300000.0  2010  1.025500e+09  \n",
       "2    664300000.0  2010  9.603000e+08  \n",
       "3    535700000.0  2010  8.283000e+08  \n",
       "4    513900000.0  2010  7.526000e+08  "
      ]
     },
     "execution_count": 8,
     "metadata": {},
     "output_type": "execute_result"
    }
   ],
   "source": [
    "bom_movie_gross.head()"
   ]
  },
  {
   "cell_type": "code",
   "execution_count": 9,
   "metadata": {
    "scrolled": true
   },
   "outputs": [
    {
     "data": {
      "image/png": "[encoded data removed]",
      "text/plain": [
       "<Figure size 1296x288 with 3 Axes>"
      ]
     },
     "metadata": {
      "needs_background": "light"
     },
     "output_type": "display_data"
    }
   ],
   "source": [
    "# Then I plot the bar of domestic and froeign gross seperately in two plots.\n",
    "fig, (ax1, ax2, ax3)  = plt.subplots(1, 3, figsize = (18, 4))\n",
    "x = bom_movie_gross_groupby_year.index\n",
    "y_d = bom_movie_gross_groupby_year['domestic_gross']\n",
    "y_f = bom_movie_gross_groupby_year['foreign_gross']\n",
    "y_w = bom_movie_gross_groupby_year['world_gross']\n",
    "ax1.bar (x, y_d, color = \"blue\")\n",
    "ax1.set_xlabel('Year')\n",
    "ax1.set_ylabel('Domestic gross')\n",
    "ax1.set_title('The Domestic gross over the year')\n",
    "ax2.bar (x, y_f, color = 'green')\n",
    "ax2.set_xlabel('Year')\n",
    "ax2.set_ylabel('Foreign gross')\n",
    "ax2.set_title('The Foreign gross over the year')\n",
    "ax3.bar (x, y_w, color = 'red')\n",
    "ax3.set_xlabel('Year')\n",
    "ax3.set_ylabel('world gross')\n",
    "ax3.set_title('The world gross over the year')\n",
    "plt.show()"
   ]
  },
  {
   "cell_type": "markdown",
   "metadata": {},
   "source": [
    "The graphs showed that, from 2010 to 2018, the total domestic gross did not change much. However, the froeign gross increased in general. Also, the total amount of froeign gross of all movies is almost two times larger than the domestic gross. "
   ]
  },
  {
   "cell_type": "markdown",
   "metadata": {
    "scrolled": true
   },
   "source": [
    "# The second question\n",
    "What is average rating as well as the gross earning for different category movies in histogram? \n",
    "#In order to get the movies rating and gross earning information, I selected data from IMDB_basics, IMDB_rating and bom_movie_gross. "
   ]
  },
  {
   "cell_type": "code",
   "execution_count": 14,
   "metadata": {
    "scrolled": false
   },
   "outputs": [],
   "source": [
    "#As there is a lot of table joint in the next data processing, I will use SQL with Pandas.\n",
    "#import the necessary library.\n",
    "from pandasql import sqldf\n",
    "pysqldf = lambda q: sqldf(q, globals())"
   ]
  },
  {
   "cell_type": "code",
   "execution_count": 15,
   "metadata": {
    "scrolled": false
   },
   "outputs": [
    {
     "name": "stderr",
     "output_type": "stream",
     "text": [
      "<ipython-input-15-15e65f1e9867>:5: SettingWithCopyWarning: \n",
      "A value is trying to be set on a copy of a slice from a DataFrame.\n",
      "Try using .loc[row_indexer,col_indexer] = value instead\n",
      "\n",
      "See the caveats in the documentation: https://pandas.pydata.org/pandas-docs/stable/user_guide/indexing.html#returning-a-view-versus-a-copy\n",
      "  filtered_IMDB_basics['main_genres']  = main_genres\n"
     ]
    }
   ],
   "source": [
    "#The genres column contain one or more genres, I selected the first one as main genres. \n",
    "#Druing the split, I found some of them are empty, I then removed the genres which is empty. \n",
    "filtered_IMDB_basics =  IMDB_basics[IMDB_basics['genres'].notnull()]\n",
    "main_genres = filtered_IMDB_basics['genres'].map(lambda x : x.split(',')[0])\n",
    "filtered_IMDB_basics['main_genres']  = main_genres                                                         "
   ]
  },
  {
   "cell_type": "code",
   "execution_count": 16,
   "metadata": {
    "scrolled": true
   },
   "outputs": [
    {
     "data": {
      "text/html": [
       "<div>\n",
       "<style scoped>\n",
       "    .dataframe tbody tr th:only-of-type {\n",
       "        vertical-align: middle;\n",
       "    }\n",
       "\n",
       "    .dataframe tbody tr th {\n",
       "        vertical-align: top;\n",
       "    }\n",
       "\n",
       "    .dataframe thead th {\n",
       "        text-align: right;\n",
       "    }\n",
       "</style>\n",
       "<table border=\"1\" class=\"dataframe\">\n",
       "  <thead>\n",
       "    <tr style=\"text-align: right;\">\n",
       "      <th></th>\n",
       "      <th>tconst</th>\n",
       "      <th>primary_title</th>\n",
       "      <th>original_title</th>\n",
       "      <th>start_year</th>\n",
       "      <th>runtime_minutes</th>\n",
       "      <th>genres</th>\n",
       "      <th>main_genres</th>\n",
       "    </tr>\n",
       "  </thead>\n",
       "  <tbody>\n",
       "    <tr>\n",
       "      <th>0</th>\n",
       "      <td>tt0063540</td>\n",
       "      <td>Sunghursh</td>\n",
       "      <td>Sunghursh</td>\n",
       "      <td>2013</td>\n",
       "      <td>175.0</td>\n",
       "      <td>Action,Crime,Drama</td>\n",
       "      <td>Action</td>\n",
       "    </tr>\n",
       "  </tbody>\n",
       "</table>\n",
       "</div>"
      ],
      "text/plain": [
       "      tconst primary_title original_title  start_year  runtime_minutes  \\\n",
       "0  tt0063540     Sunghursh      Sunghursh        2013            175.0   \n",
       "\n",
       "               genres main_genres  \n",
       "0  Action,Crime,Drama      Action  "
      ]
     },
     "execution_count": 16,
     "metadata": {},
     "output_type": "execute_result"
    }
   ],
   "source": [
    "filtered_IMDB_basics.head(1)"
   ]
  },
  {
   "cell_type": "code",
   "execution_count": null,
   "metadata": {},
   "outputs": [],
   "source": [
    "# Combined the filtered IMDB_basics and IMDB_rating with tconst for the year between 2010 and 2018 as there is only gross infomration\n",
    "# for movies in these years. \n",
    "q =   \"\"\"SELECT\n",
    "            basic.tconst, basic.primary_title, basic.original_title, basic.main_genres, basic.start_year, rating.averagerating \n",
    "         FROM\n",
    "            filtered_IMDB_basics basic\n",
    "         INNER JOIN\n",
    "            IMDB_rating rating\n",
    "               ON basic.tconst = rating.tconst\n",
    "         where   basic.start_year < 2019 AND  basic.start_year > 2009\n",
    "         \n",
    "               ;\"\"\"\n",
    "\n"
   ]
  },
  {
   "cell_type": "code",
   "execution_count": 22,
   "metadata": {
    "scrolled": false
   },
   "outputs": [
    {
     "data": {
      "text/html": [
       "<div>\n",
       "<style scoped>\n",
       "    .dataframe tbody tr th:only-of-type {\n",
       "        vertical-align: middle;\n",
       "    }\n",
       "\n",
       "    .dataframe tbody tr th {\n",
       "        vertical-align: top;\n",
       "    }\n",
       "\n",
       "    .dataframe thead th {\n",
       "        text-align: right;\n",
       "    }\n",
       "</style>\n",
       "<table border=\"1\" class=\"dataframe\">\n",
       "  <thead>\n",
       "    <tr style=\"text-align: right;\">\n",
       "      <th></th>\n",
       "      <th>tconst</th>\n",
       "      <th>primary_title</th>\n",
       "      <th>original_title</th>\n",
       "      <th>main_genres</th>\n",
       "      <th>start_year</th>\n",
       "      <th>averagerating</th>\n",
       "    </tr>\n",
       "  </thead>\n",
       "  <tbody>\n",
       "    <tr>\n",
       "      <th>0</th>\n",
       "      <td>tt0063540</td>\n",
       "      <td>Sunghursh</td>\n",
       "      <td>Sunghursh</td>\n",
       "      <td>Action</td>\n",
       "      <td>2013</td>\n",
       "      <td>7.0</td>\n",
       "    </tr>\n",
       "    <tr>\n",
       "      <th>1</th>\n",
       "      <td>tt0069049</td>\n",
       "      <td>The Other Side of the Wind</td>\n",
       "      <td>The Other Side of the Wind</td>\n",
       "      <td>Drama</td>\n",
       "      <td>2018</td>\n",
       "      <td>6.9</td>\n",
       "    </tr>\n",
       "  </tbody>\n",
       "</table>\n",
       "</div>"
      ],
      "text/plain": [
       "      tconst               primary_title              original_title  \\\n",
       "0  tt0063540                   Sunghursh                   Sunghursh   \n",
       "1  tt0069049  The Other Side of the Wind  The Other Side of the Wind   \n",
       "\n",
       "  main_genres  start_year  averagerating  \n",
       "0      Action        2013            7.0  \n",
       "1       Drama        2018            6.9  "
      ]
     },
     "execution_count": 22,
     "metadata": {},
     "output_type": "execute_result"
    }
   ],
   "source": [
    "combined_IMDB = pysqldf(q)\n",
    "combined_IMDB.head(2)"
   ]
  },
  {
   "cell_type": "code",
   "execution_count": 23,
   "metadata": {},
   "outputs": [],
   "source": [
    "# Continue to combine the upper table with bom_movie_gross using the title from bom_movie_gross to match the primary title \n",
    "# or original tile in IMDB.\n",
    "# After combination, the number of rows decreased dramatically as the number of movies with gross is much less than the \n",
    "# number of movies in IMDB.\n",
    "q2 = \"\"\"SELECT\n",
    "            IM.main_genres, bom.title, IM.averagerating,  bom.domestic_gross,\n",
    "            bom.foreign_gross, bom.year, bom.world_gross\n",
    "         FROM\n",
    "            combined_IMDB IM\n",
    "         INNER JOIN\n",
    "            bom_movie_gross bom\n",
    "               ON IM.primary_title = bom.title or IM.original_title = bom.title\n",
    "         order by  world_gross desc\n",
    "         \n",
    "               ;\"\"\"\n"
   ]
  },
  {
   "cell_type": "code",
   "execution_count": 24,
   "metadata": {
    "scrolled": true
   },
   "outputs": [
    {
     "data": {
      "text/html": [
       "<div>\n",
       "<style scoped>\n",
       "    .dataframe tbody tr th:only-of-type {\n",
       "        vertical-align: middle;\n",
       "    }\n",
       "\n",
       "    .dataframe tbody tr th {\n",
       "        vertical-align: top;\n",
       "    }\n",
       "\n",
       "    .dataframe thead th {\n",
       "        text-align: right;\n",
       "    }\n",
       "</style>\n",
       "<table border=\"1\" class=\"dataframe\">\n",
       "  <thead>\n",
       "    <tr style=\"text-align: right;\">\n",
       "      <th></th>\n",
       "      <th>main_genres</th>\n",
       "      <th>title</th>\n",
       "      <th>averagerating</th>\n",
       "      <th>domestic_gross</th>\n",
       "      <th>foreign_gross</th>\n",
       "      <th>year</th>\n",
       "      <th>world_gross</th>\n",
       "    </tr>\n",
       "  </thead>\n",
       "  <tbody>\n",
       "    <tr>\n",
       "      <th>0</th>\n",
       "      <td>Action</td>\n",
       "      <td>Avengers: Age of Ultron</td>\n",
       "      <td>7.3</td>\n",
       "      <td>459000000.0</td>\n",
       "      <td>946400000.0</td>\n",
       "      <td>2015</td>\n",
       "      <td>1.405400e+09</td>\n",
       "    </tr>\n",
       "    <tr>\n",
       "      <th>1</th>\n",
       "      <td>Action</td>\n",
       "      <td>Black Panther</td>\n",
       "      <td>7.3</td>\n",
       "      <td>700100000.0</td>\n",
       "      <td>646900000.0</td>\n",
       "      <td>2018</td>\n",
       "      <td>1.347000e+09</td>\n",
       "    </tr>\n",
       "    <tr>\n",
       "      <th>2</th>\n",
       "      <td>Action</td>\n",
       "      <td>Star Wars: The Last Jedi</td>\n",
       "      <td>7.1</td>\n",
       "      <td>620200000.0</td>\n",
       "      <td>712400000.0</td>\n",
       "      <td>2017</td>\n",
       "      <td>1.332600e+09</td>\n",
       "    </tr>\n",
       "    <tr>\n",
       "      <th>3</th>\n",
       "      <td>Action</td>\n",
       "      <td>Jurassic World: Fallen Kingdom</td>\n",
       "      <td>6.2</td>\n",
       "      <td>417700000.0</td>\n",
       "      <td>891800000.0</td>\n",
       "      <td>2018</td>\n",
       "      <td>1.309500e+09</td>\n",
       "    </tr>\n",
       "    <tr>\n",
       "      <th>6</th>\n",
       "      <td>Adventure</td>\n",
       "      <td>Frozen</td>\n",
       "      <td>7.5</td>\n",
       "      <td>400700000.0</td>\n",
       "      <td>875700000.0</td>\n",
       "      <td>2013</td>\n",
       "      <td>1.276400e+09</td>\n",
       "    </tr>\n",
       "    <tr>\n",
       "      <th>7</th>\n",
       "      <td>Action</td>\n",
       "      <td>Incredibles 2</td>\n",
       "      <td>7.7</td>\n",
       "      <td>608600000.0</td>\n",
       "      <td>634200000.0</td>\n",
       "      <td>2018</td>\n",
       "      <td>1.242800e+09</td>\n",
       "    </tr>\n",
       "    <tr>\n",
       "      <th>8</th>\n",
       "      <td>Action</td>\n",
       "      <td>Iron Man 3</td>\n",
       "      <td>7.2</td>\n",
       "      <td>409000000.0</td>\n",
       "      <td>805800000.0</td>\n",
       "      <td>2013</td>\n",
       "      <td>1.214800e+09</td>\n",
       "    </tr>\n",
       "    <tr>\n",
       "      <th>9</th>\n",
       "      <td>Adventure</td>\n",
       "      <td>Minions</td>\n",
       "      <td>6.4</td>\n",
       "      <td>336000000.0</td>\n",
       "      <td>823400000.0</td>\n",
       "      <td>2015</td>\n",
       "      <td>1.159400e+09</td>\n",
       "    </tr>\n",
       "    <tr>\n",
       "      <th>10</th>\n",
       "      <td>Action</td>\n",
       "      <td>Captain America: Civil War</td>\n",
       "      <td>7.8</td>\n",
       "      <td>408100000.0</td>\n",
       "      <td>745200000.0</td>\n",
       "      <td>2016</td>\n",
       "      <td>1.153300e+09</td>\n",
       "    </tr>\n",
       "    <tr>\n",
       "      <th>11</th>\n",
       "      <td>Action</td>\n",
       "      <td>Aquaman</td>\n",
       "      <td>7.1</td>\n",
       "      <td>335100000.0</td>\n",
       "      <td>812700000.0</td>\n",
       "      <td>2018</td>\n",
       "      <td>1.147800e+09</td>\n",
       "    </tr>\n",
       "  </tbody>\n",
       "</table>\n",
       "</div>"
      ],
      "text/plain": [
       "   main_genres                           title  averagerating  domestic_gross  \\\n",
       "0       Action         Avengers: Age of Ultron            7.3     459000000.0   \n",
       "1       Action                   Black Panther            7.3     700100000.0   \n",
       "2       Action        Star Wars: The Last Jedi            7.1     620200000.0   \n",
       "3       Action  Jurassic World: Fallen Kingdom            6.2     417700000.0   \n",
       "6    Adventure                          Frozen            7.5     400700000.0   \n",
       "7       Action                   Incredibles 2            7.7     608600000.0   \n",
       "8       Action                      Iron Man 3            7.2     409000000.0   \n",
       "9    Adventure                         Minions            6.4     336000000.0   \n",
       "10      Action      Captain America: Civil War            7.8     408100000.0   \n",
       "11      Action                         Aquaman            7.1     335100000.0   \n",
       "\n",
       "    foreign_gross  year   world_gross  \n",
       "0     946400000.0  2015  1.405400e+09  \n",
       "1     646900000.0  2018  1.347000e+09  \n",
       "2     712400000.0  2017  1.332600e+09  \n",
       "3     891800000.0  2018  1.309500e+09  \n",
       "6     875700000.0  2013  1.276400e+09  \n",
       "7     634200000.0  2018  1.242800e+09  \n",
       "8     805800000.0  2013  1.214800e+09  \n",
       "9     823400000.0  2015  1.159400e+09  \n",
       "10    745200000.0  2016  1.153300e+09  \n",
       "11    812700000.0  2018  1.147800e+09  "
      ]
     },
     "execution_count": 24,
     "metadata": {},
     "output_type": "execute_result"
    }
   ],
   "source": [
    "combined_IMDB_bom = pysqldf(q2)\n",
    "# Remove the duplicates titles from the combinded table and order them by the gross earning worldwise\n",
    "combined_IMDB_bom = combined_IMDB_bom.drop_duplicates(subset='title', keep=\"last\")\n",
    "combined_IMDB_bom.head(10)"
   ]
  },
  {
   "cell_type": "markdown",
   "metadata": {},
   "source": [
    "In the top 10 movies, 8 of them are action movies. This suggests that to focus on the high profit of the movies, selecting\n",
    "action movies is a good choice."
   ]
  },
  {
   "cell_type": "code",
   "execution_count": 252,
   "metadata": {},
   "outputs": [
    {
     "data": {
      "text/plain": [
       "0.369488361239297"
      ]
     },
     "execution_count": 252,
     "metadata": {},
     "output_type": "execute_result"
    }
   ],
   "source": [
    "#calculate the total earning of first 100 movies \n",
    "combined_IMDB_bom.loc[0:100,'world_gross'].sum()/ combined_IMDB_bom.loc[:,'world_gross'].sum()\n",
    "#The number is 36.7%"
   ]
  },
  {
   "cell_type": "code",
   "execution_count": 253,
   "metadata": {
    "scrolled": true
   },
   "outputs": [
    {
     "data": {
      "text/plain": [
       "Text(0, 0.5, 'world gross')"
      ]
     },
     "execution_count": 253,
     "metadata": {},
     "output_type": "execute_result"
    },
    {
     "data": {
      "image/png": "[encoded data removed]",
      "text/plain": [
       "<Figure size 432x288 with 1 Axes>"
      ]
     },
     "metadata": {
      "needs_background": "light"
     },
     "output_type": "display_data"
    }
   ],
   "source": [
    "#plot the scatter point of average rating and world gross\n",
    "X = combined_IMDB_bom.averagerating\n",
    "Y = combined_IMDB_bom.world_gross\n",
    "fig = plt.figure()\n",
    "plt.scatter(X, Y)\n",
    "fig.suptitle('rating and gross')\n",
    "plt.xlabel('average rating')\n",
    "plt.ylabel('world gross')\n"
   ]
  },
  {
   "cell_type": "markdown",
   "metadata": {},
   "source": [
    "The scatter of rating and gross earning for each movie from 2010 to 2018 shows that most of the high earning movie had high rating more than 6. The top 100 movies earned 36.9% of the gross of all the movies. "
   ]
  },
  {
   "cell_type": "markdown",
   "metadata": {},
   "source": [
    "# The third questions:\n",
    "What is the total gross and rating of moives making in world for different genres? What is the distribution of top 100 movies which highest earned gross or highest rating. What is the number in 2018."
   ]
  },
  {
   "cell_type": "code",
   "execution_count": 133,
   "metadata": {
    "scrolled": false
   },
   "outputs": [
    {
     "data": {
      "image/png": "[encoded data removed]",
      "text/plain": [
       "<Figure size 1440x432 with 1 Axes>"
      ]
     },
     "metadata": {},
     "output_type": "display_data"
    },
    {
     "data": {
      "image/png": "[encoded data removed]",
      "text/plain": [
       "<Figure size 1440x432 with 1 Axes>"
      ]
     },
     "metadata": {},
     "output_type": "display_data"
    }
   ],
   "source": [
    "# Plot the box of gross and rating base on the different main genres of the movies\n",
    "axes[0] = combined_IMDB_bom.boxplot((['world_gross']), by = 'main_genres', figsize = (20,6))\n",
    "axes[1] = combined_IMDB_bom.boxplot((['averagerating']), by = 'main_genres', figsize = (20,6))\n",
    "axes[0].set_ylabel('World gross')\n",
    "axes[1].set_ylabel('Average rating')\n",
    "plt.show()"
   ]
  },
  {
   "cell_type": "markdown",
   "metadata": {},
   "source": [
    "The boxplot show that the medium value of world gross for each genres movies are similar with each other. However, in the Action and Adventure movies, there are quite few of the movies earned much more than other types of movies. For the average rating, there is no signaficant different types of movies are higher than others. This suggests that, there is more chance to earn more money if we select action and adventure movies. "
   ]
  },
  {
   "cell_type": "markdown",
   "metadata": {},
   "source": [
    "## Next: what is the ratio of genres in top 100 earning as well as the in top 100 rating"
   ]
  },
  {
   "cell_type": "code",
   "execution_count": 257,
   "metadata": {
    "scrolled": true
   },
   "outputs": [
    {
     "data": {
      "text/html": [
       "<div>\n",
       "<style scoped>\n",
       "    .dataframe tbody tr th:only-of-type {\n",
       "        vertical-align: middle;\n",
       "    }\n",
       "\n",
       "    .dataframe tbody tr th {\n",
       "        vertical-align: top;\n",
       "    }\n",
       "\n",
       "    .dataframe thead th {\n",
       "        text-align: right;\n",
       "    }\n",
       "</style>\n",
       "<table border=\"1\" class=\"dataframe\">\n",
       "  <thead>\n",
       "    <tr style=\"text-align: right;\">\n",
       "      <th></th>\n",
       "      <th>main_genres</th>\n",
       "      <th>title</th>\n",
       "      <th>averagerating</th>\n",
       "      <th>domestic_gross</th>\n",
       "      <th>foreign_gross</th>\n",
       "      <th>year</th>\n",
       "      <th>world_gross</th>\n",
       "    </tr>\n",
       "  </thead>\n",
       "  <tbody>\n",
       "    <tr>\n",
       "      <th>0</th>\n",
       "      <td>Action</td>\n",
       "      <td>Avengers: Age of Ultron</td>\n",
       "      <td>7.3</td>\n",
       "      <td>459000000.0</td>\n",
       "      <td>946400000.0</td>\n",
       "      <td>2015</td>\n",
       "      <td>1.405400e+09</td>\n",
       "    </tr>\n",
       "    <tr>\n",
       "      <th>1</th>\n",
       "      <td>Action</td>\n",
       "      <td>Black Panther</td>\n",
       "      <td>7.3</td>\n",
       "      <td>700100000.0</td>\n",
       "      <td>646900000.0</td>\n",
       "      <td>2018</td>\n",
       "      <td>1.347000e+09</td>\n",
       "    </tr>\n",
       "    <tr>\n",
       "      <th>2</th>\n",
       "      <td>Action</td>\n",
       "      <td>Star Wars: The Last Jedi</td>\n",
       "      <td>7.1</td>\n",
       "      <td>620200000.0</td>\n",
       "      <td>712400000.0</td>\n",
       "      <td>2017</td>\n",
       "      <td>1.332600e+09</td>\n",
       "    </tr>\n",
       "    <tr>\n",
       "      <th>3</th>\n",
       "      <td>Action</td>\n",
       "      <td>Jurassic World: Fallen Kingdom</td>\n",
       "      <td>6.2</td>\n",
       "      <td>417700000.0</td>\n",
       "      <td>891800000.0</td>\n",
       "      <td>2018</td>\n",
       "      <td>1.309500e+09</td>\n",
       "    </tr>\n",
       "    <tr>\n",
       "      <th>6</th>\n",
       "      <td>Adventure</td>\n",
       "      <td>Frozen</td>\n",
       "      <td>7.5</td>\n",
       "      <td>400700000.0</td>\n",
       "      <td>875700000.0</td>\n",
       "      <td>2013</td>\n",
       "      <td>1.276400e+09</td>\n",
       "    </tr>\n",
       "  </tbody>\n",
       "</table>\n",
       "</div>"
      ],
      "text/plain": [
       "  main_genres                           title  averagerating  domestic_gross  \\\n",
       "0      Action         Avengers: Age of Ultron            7.3     459000000.0   \n",
       "1      Action                   Black Panther            7.3     700100000.0   \n",
       "2      Action        Star Wars: The Last Jedi            7.1     620200000.0   \n",
       "3      Action  Jurassic World: Fallen Kingdom            6.2     417700000.0   \n",
       "6   Adventure                          Frozen            7.5     400700000.0   \n",
       "\n",
       "   foreign_gross  year   world_gross  \n",
       "0    946400000.0  2015  1.405400e+09  \n",
       "1    646900000.0  2018  1.347000e+09  \n",
       "2    712400000.0  2017  1.332600e+09  \n",
       "3    891800000.0  2018  1.309500e+09  \n",
       "6    875700000.0  2013  1.276400e+09  "
      ]
     },
     "execution_count": 257,
     "metadata": {},
     "output_type": "execute_result"
    }
   ],
   "source": [
    "combined_IMDB_bom.head()"
   ]
  },
  {
   "cell_type": "code",
   "execution_count": 261,
   "metadata": {},
   "outputs": [],
   "source": [
    "# select the top 100 movies base on the gross\n",
    "q3 = \"\"\"SELECT *\n",
    "         FROM\n",
    "            combined_IMDB_bom c\n",
    "         ORDER BY  c.world_gross desc\n",
    "         limit 100  \n",
    "         \n",
    "               ;\"\"\"\n",
    "combined_IMDB_bom_gross = pysqldf(q3)\n"
   ]
  },
  {
   "cell_type": "code",
   "execution_count": 259,
   "metadata": {},
   "outputs": [
    {
     "data": {
      "text/html": [
       "<div>\n",
       "<style scoped>\n",
       "    .dataframe tbody tr th:only-of-type {\n",
       "        vertical-align: middle;\n",
       "    }\n",
       "\n",
       "    .dataframe tbody tr th {\n",
       "        vertical-align: top;\n",
       "    }\n",
       "\n",
       "    .dataframe thead th {\n",
       "        text-align: right;\n",
       "    }\n",
       "</style>\n",
       "<table border=\"1\" class=\"dataframe\">\n",
       "  <thead>\n",
       "    <tr style=\"text-align: right;\">\n",
       "      <th></th>\n",
       "      <th>main_genres</th>\n",
       "      <th>title</th>\n",
       "      <th>averagerating</th>\n",
       "      <th>domestic_gross</th>\n",
       "      <th>foreign_gross</th>\n",
       "      <th>year</th>\n",
       "      <th>world_gross</th>\n",
       "    </tr>\n",
       "  </thead>\n",
       "  <tbody>\n",
       "    <tr>\n",
       "      <th>0</th>\n",
       "      <td>Action</td>\n",
       "      <td>Avengers: Age of Ultron</td>\n",
       "      <td>7.3</td>\n",
       "      <td>459000000.0</td>\n",
       "      <td>946400000.0</td>\n",
       "      <td>2015</td>\n",
       "      <td>1.405400e+09</td>\n",
       "    </tr>\n",
       "    <tr>\n",
       "      <th>1</th>\n",
       "      <td>Action</td>\n",
       "      <td>Black Panther</td>\n",
       "      <td>7.3</td>\n",
       "      <td>700100000.0</td>\n",
       "      <td>646900000.0</td>\n",
       "      <td>2018</td>\n",
       "      <td>1.347000e+09</td>\n",
       "    </tr>\n",
       "    <tr>\n",
       "      <th>2</th>\n",
       "      <td>Action</td>\n",
       "      <td>Star Wars: The Last Jedi</td>\n",
       "      <td>7.1</td>\n",
       "      <td>620200000.0</td>\n",
       "      <td>712400000.0</td>\n",
       "      <td>2017</td>\n",
       "      <td>1.332600e+09</td>\n",
       "    </tr>\n",
       "    <tr>\n",
       "      <th>3</th>\n",
       "      <td>Action</td>\n",
       "      <td>Jurassic World: Fallen Kingdom</td>\n",
       "      <td>6.2</td>\n",
       "      <td>417700000.0</td>\n",
       "      <td>891800000.0</td>\n",
       "      <td>2018</td>\n",
       "      <td>1.309500e+09</td>\n",
       "    </tr>\n",
       "    <tr>\n",
       "      <th>4</th>\n",
       "      <td>Adventure</td>\n",
       "      <td>Frozen</td>\n",
       "      <td>7.5</td>\n",
       "      <td>400700000.0</td>\n",
       "      <td>875700000.0</td>\n",
       "      <td>2013</td>\n",
       "      <td>1.276400e+09</td>\n",
       "    </tr>\n",
       "  </tbody>\n",
       "</table>\n",
       "</div>"
      ],
      "text/plain": [
       "  main_genres                           title  averagerating  domestic_gross  \\\n",
       "0      Action         Avengers: Age of Ultron            7.3     459000000.0   \n",
       "1      Action                   Black Panther            7.3     700100000.0   \n",
       "2      Action        Star Wars: The Last Jedi            7.1     620200000.0   \n",
       "3      Action  Jurassic World: Fallen Kingdom            6.2     417700000.0   \n",
       "4   Adventure                          Frozen            7.5     400700000.0   \n",
       "\n",
       "   foreign_gross  year   world_gross  \n",
       "0    946400000.0  2015  1.405400e+09  \n",
       "1    646900000.0  2018  1.347000e+09  \n",
       "2    712400000.0  2017  1.332600e+09  \n",
       "3    891800000.0  2018  1.309500e+09  \n",
       "4    875700000.0  2013  1.276400e+09  "
      ]
     },
     "execution_count": 259,
     "metadata": {},
     "output_type": "execute_result"
    }
   ],
   "source": [
    "combined_IMDB_bom_gross.head()"
   ]
  },
  {
   "cell_type": "code",
   "execution_count": 263,
   "metadata": {},
   "outputs": [
    {
     "data": {
      "text/html": [
       "<div>\n",
       "<style scoped>\n",
       "    .dataframe tbody tr th:only-of-type {\n",
       "        vertical-align: middle;\n",
       "    }\n",
       "\n",
       "    .dataframe tbody tr th {\n",
       "        vertical-align: top;\n",
       "    }\n",
       "\n",
       "    .dataframe thead th {\n",
       "        text-align: right;\n",
       "    }\n",
       "</style>\n",
       "<table border=\"1\" class=\"dataframe\">\n",
       "  <thead>\n",
       "    <tr style=\"text-align: right;\">\n",
       "      <th></th>\n",
       "      <th>main_genres</th>\n",
       "      <th>count_gross</th>\n",
       "    </tr>\n",
       "  </thead>\n",
       "  <tbody>\n",
       "    <tr>\n",
       "      <th>0</th>\n",
       "      <td>Action</td>\n",
       "      <td>64</td>\n",
       "    </tr>\n",
       "    <tr>\n",
       "      <th>1</th>\n",
       "      <td>Adventure</td>\n",
       "      <td>25</td>\n",
       "    </tr>\n",
       "    <tr>\n",
       "      <th>2</th>\n",
       "      <td>Animation</td>\n",
       "      <td>2</td>\n",
       "    </tr>\n",
       "    <tr>\n",
       "      <th>3</th>\n",
       "      <td>Biography</td>\n",
       "      <td>2</td>\n",
       "    </tr>\n",
       "    <tr>\n",
       "      <th>4</th>\n",
       "      <td>Comedy</td>\n",
       "      <td>2</td>\n",
       "    </tr>\n",
       "    <tr>\n",
       "      <th>5</th>\n",
       "      <td>Documentary</td>\n",
       "      <td>1</td>\n",
       "    </tr>\n",
       "    <tr>\n",
       "      <th>6</th>\n",
       "      <td>Drama</td>\n",
       "      <td>2</td>\n",
       "    </tr>\n",
       "    <tr>\n",
       "      <th>7</th>\n",
       "      <td>Horror</td>\n",
       "      <td>2</td>\n",
       "    </tr>\n",
       "  </tbody>\n",
       "</table>\n",
       "</div>"
      ],
      "text/plain": [
       "   main_genres  count_gross\n",
       "0       Action           64\n",
       "1    Adventure           25\n",
       "2    Animation            2\n",
       "3    Biography            2\n",
       "4       Comedy            2\n",
       "5  Documentary            1\n",
       "6        Drama            2\n",
       "7       Horror            2"
      ]
     },
     "execution_count": 263,
     "metadata": {},
     "output_type": "execute_result"
    }
   ],
   "source": [
    "# Count the number of movies for each genres\n",
    "q5 = \"\"\"SELECT c.main_genres, count(c.title) as count_gross\n",
    "         FROM\n",
    "            combined_IMDB_bom_gross c\n",
    "         group BY  c.main_genres \n",
    "         \n",
    "         ;\"\"\"\n",
    "top_gross = pysqldf(q5)\n",
    "\n",
    "top_gross"
   ]
  },
  {
   "cell_type": "code",
   "execution_count": 266,
   "metadata": {},
   "outputs": [],
   "source": [
    "# select the top 100 movies base on the rating\n",
    "\n",
    "q4 = \"\"\"SELECT *\n",
    "         FROM\n",
    "            combined_IMDB_bom c\n",
    "         ORDER BY  c.averagerating desc\n",
    "         limit 100  \n",
    "         \n",
    "               ;\"\"\"\n",
    "combined_IMDB_bom_rating = pysqldf(q4)"
   ]
  },
  {
   "cell_type": "code",
   "execution_count": 267,
   "metadata": {},
   "outputs": [
    {
     "data": {
      "text/html": [
       "<div>\n",
       "<style scoped>\n",
       "    .dataframe tbody tr th:only-of-type {\n",
       "        vertical-align: middle;\n",
       "    }\n",
       "\n",
       "    .dataframe tbody tr th {\n",
       "        vertical-align: top;\n",
       "    }\n",
       "\n",
       "    .dataframe thead th {\n",
       "        text-align: right;\n",
       "    }\n",
       "</style>\n",
       "<table border=\"1\" class=\"dataframe\">\n",
       "  <thead>\n",
       "    <tr style=\"text-align: right;\">\n",
       "      <th></th>\n",
       "      <th>main_genres</th>\n",
       "      <th>count_rating</th>\n",
       "    </tr>\n",
       "  </thead>\n",
       "  <tbody>\n",
       "    <tr>\n",
       "      <th>0</th>\n",
       "      <td>Action</td>\n",
       "      <td>18</td>\n",
       "    </tr>\n",
       "    <tr>\n",
       "      <th>1</th>\n",
       "      <td>Adventure</td>\n",
       "      <td>8</td>\n",
       "    </tr>\n",
       "    <tr>\n",
       "      <th>2</th>\n",
       "      <td>Animation</td>\n",
       "      <td>2</td>\n",
       "    </tr>\n",
       "    <tr>\n",
       "      <th>3</th>\n",
       "      <td>Biography</td>\n",
       "      <td>15</td>\n",
       "    </tr>\n",
       "    <tr>\n",
       "      <th>4</th>\n",
       "      <td>Comedy</td>\n",
       "      <td>14</td>\n",
       "    </tr>\n",
       "    <tr>\n",
       "      <th>5</th>\n",
       "      <td>Crime</td>\n",
       "      <td>6</td>\n",
       "    </tr>\n",
       "    <tr>\n",
       "      <th>6</th>\n",
       "      <td>Documentary</td>\n",
       "      <td>10</td>\n",
       "    </tr>\n",
       "    <tr>\n",
       "      <th>7</th>\n",
       "      <td>Drama</td>\n",
       "      <td>24</td>\n",
       "    </tr>\n",
       "    <tr>\n",
       "      <th>8</th>\n",
       "      <td>Fantasy</td>\n",
       "      <td>1</td>\n",
       "    </tr>\n",
       "    <tr>\n",
       "      <th>9</th>\n",
       "      <td>Mystery</td>\n",
       "      <td>1</td>\n",
       "    </tr>\n",
       "    <tr>\n",
       "      <th>10</th>\n",
       "      <td>Thriller</td>\n",
       "      <td>1</td>\n",
       "    </tr>\n",
       "  </tbody>\n",
       "</table>\n",
       "</div>"
      ],
      "text/plain": [
       "    main_genres  count_rating\n",
       "0        Action            18\n",
       "1     Adventure             8\n",
       "2     Animation             2\n",
       "3     Biography            15\n",
       "4        Comedy            14\n",
       "5         Crime             6\n",
       "6   Documentary            10\n",
       "7         Drama            24\n",
       "8       Fantasy             1\n",
       "9       Mystery             1\n",
       "10     Thriller             1"
      ]
     },
     "execution_count": 267,
     "metadata": {},
     "output_type": "execute_result"
    }
   ],
   "source": [
    "# Count the number of movies for each genres\n",
    "\n",
    "q6 = \"\"\"SELECT c.main_genres, count(c.title) as count_rating\n",
    "         FROM\n",
    "            combined_IMDB_bom_rating c\n",
    "         group BY  c.main_genres \n",
    "         \n",
    "         ;\"\"\"\n",
    "top_rating = pysqldf(q6)\n",
    "top_rating"
   ]
  },
  {
   "cell_type": "code",
   "execution_count": 294,
   "metadata": {
    "scrolled": false
   },
   "outputs": [
    {
     "data": {
      "text/plain": [
       "Text(0.5, 1.0, 'The percentage of genre in 100 highest rating movies')"
      ]
     },
     "execution_count": 294,
     "metadata": {},
     "output_type": "execute_result"
    },
    {
     "data": {
      "image/png": "[encoded data removed]",
      "text/plain": [
       "<Figure size 1080x720 with 2 Axes>"
      ]
     },
     "metadata": {
      "needs_background": "light"
     },
     "output_type": "display_data"
    }
   ],
   "source": [
    "fig, (ax1, ax2)  = plt.subplots(2, 1, figsize = (15, 10))\n",
    "x = top_gross.main_genres\n",
    "y  = top_gross['count_gross']\n",
    "\n",
    "ax1.bar (x, y, color = \"blue\")\n",
    "ax1.set_xlabel('Genres')\n",
    "ax1.set_ylabel('Percentage')\n",
    "ax1.set_title('The percentage of genre in top 100 gross earned movies')\n",
    "\n",
    "x_r = top_rating.main_genres\n",
    "y_rating  = top_rating['count_rating']\n",
    "ax2.bar (x_r, y_rating, color = \"cyan\")\n",
    "ax2.set_xlabel('Genres')\n",
    "ax2.set_ylabel('Percentage')\n",
    "ax2.set_title('The percentage of genre in 100 highest rating movies')"
   ]
  },
  {
   "cell_type": "code",
   "execution_count": null,
   "metadata": {},
   "outputs": [],
   "source": [
    "#What is the world gross and rating of different Genres for the movies in 2018"
   ]
  },
  {
   "cell_type": "code",
   "execution_count": 284,
   "metadata": {},
   "outputs": [
    {
     "data": {
      "text/html": [
       "<div>\n",
       "<style scoped>\n",
       "    .dataframe tbody tr th:only-of-type {\n",
       "        vertical-align: middle;\n",
       "    }\n",
       "\n",
       "    .dataframe tbody tr th {\n",
       "        vertical-align: top;\n",
       "    }\n",
       "\n",
       "    .dataframe thead th {\n",
       "        text-align: right;\n",
       "    }\n",
       "</style>\n",
       "<table border=\"1\" class=\"dataframe\">\n",
       "  <thead>\n",
       "    <tr style=\"text-align: right;\">\n",
       "      <th></th>\n",
       "      <th>main_genres</th>\n",
       "      <th>title</th>\n",
       "      <th>gross_2018</th>\n",
       "      <th>rating_2018</th>\n",
       "    </tr>\n",
       "  </thead>\n",
       "  <tbody>\n",
       "    <tr>\n",
       "      <th>0</th>\n",
       "      <td>Action</td>\n",
       "      <td>Black Panther</td>\n",
       "      <td>1.378821e+10</td>\n",
       "      <td>6.414286</td>\n",
       "    </tr>\n",
       "    <tr>\n",
       "      <th>1</th>\n",
       "      <td>Biography</td>\n",
       "      <td>Bohemian Rhapsody</td>\n",
       "      <td>1.802362e+09</td>\n",
       "      <td>6.684848</td>\n",
       "    </tr>\n",
       "    <tr>\n",
       "      <th>2</th>\n",
       "      <td>Adventure</td>\n",
       "      <td>Fantastic Beasts: The Crimes of Grindelwald</td>\n",
       "      <td>3.692320e+09</td>\n",
       "      <td>6.262500</td>\n",
       "    </tr>\n",
       "    <tr>\n",
       "      <th>3</th>\n",
       "      <td>Comedy</td>\n",
       "      <td>Mamma Mia! Here We Go Again</td>\n",
       "      <td>1.838592e+09</td>\n",
       "      <td>6.105405</td>\n",
       "    </tr>\n",
       "    <tr>\n",
       "      <th>4</th>\n",
       "      <td>Drama</td>\n",
       "      <td>Fifty Shades Freed</td>\n",
       "      <td>1.347703e+09</td>\n",
       "      <td>6.735185</td>\n",
       "    </tr>\n",
       "    <tr>\n",
       "      <th>5</th>\n",
       "      <td>Horror</td>\n",
       "      <td>The Nun</td>\n",
       "      <td>6.900150e+08</td>\n",
       "      <td>5.516667</td>\n",
       "    </tr>\n",
       "    <tr>\n",
       "      <th>6</th>\n",
       "      <td>Crime</td>\n",
       "      <td>The Mule</td>\n",
       "      <td>3.362771e+08</td>\n",
       "      <td>7.040000</td>\n",
       "    </tr>\n",
       "    <tr>\n",
       "      <th>7</th>\n",
       "      <td>Documentary</td>\n",
       "      <td>First Man</td>\n",
       "      <td>1.620930e+08</td>\n",
       "      <td>7.785714</td>\n",
       "    </tr>\n",
       "    <tr>\n",
       "      <th>8</th>\n",
       "      <td>Romance</td>\n",
       "      <td>How Long Will I Love U</td>\n",
       "      <td>8.341400e+07</td>\n",
       "      <td>6.700000</td>\n",
       "    </tr>\n",
       "    <tr>\n",
       "      <th>9</th>\n",
       "      <td>Animation</td>\n",
       "      <td>Monster Family</td>\n",
       "      <td>2.650180e+07</td>\n",
       "      <td>5.900000</td>\n",
       "    </tr>\n",
       "    <tr>\n",
       "      <th>10</th>\n",
       "      <td>Fantasy</td>\n",
       "      <td>Suspiria</td>\n",
       "      <td>9.401400e+06</td>\n",
       "      <td>6.250000</td>\n",
       "    </tr>\n",
       "    <tr>\n",
       "      <th>11</th>\n",
       "      <td>Sci-Fi</td>\n",
       "      <td>Just a Breath Away</td>\n",
       "      <td>7.800000e+04</td>\n",
       "      <td>5.900000</td>\n",
       "    </tr>\n",
       "  </tbody>\n",
       "</table>\n",
       "</div>"
      ],
      "text/plain": [
       "    main_genres                                        title    gross_2018  \\\n",
       "0        Action                                Black Panther  1.378821e+10   \n",
       "1     Biography                            Bohemian Rhapsody  1.802362e+09   \n",
       "2     Adventure  Fantastic Beasts: The Crimes of Grindelwald  3.692320e+09   \n",
       "3        Comedy                  Mamma Mia! Here We Go Again  1.838592e+09   \n",
       "4         Drama                           Fifty Shades Freed  1.347703e+09   \n",
       "5        Horror                                      The Nun  6.900150e+08   \n",
       "6         Crime                                     The Mule  3.362771e+08   \n",
       "7   Documentary                                    First Man  1.620930e+08   \n",
       "8       Romance                       How Long Will I Love U  8.341400e+07   \n",
       "9     Animation                               Monster Family  2.650180e+07   \n",
       "10      Fantasy                                     Suspiria  9.401400e+06   \n",
       "11       Sci-Fi                           Just a Breath Away  7.800000e+04   \n",
       "\n",
       "    rating_2018  \n",
       "0      6.414286  \n",
       "1      6.684848  \n",
       "2      6.262500  \n",
       "3      6.105405  \n",
       "4      6.735185  \n",
       "5      5.516667  \n",
       "6      7.040000  \n",
       "7      7.785714  \n",
       "8      6.700000  \n",
       "9      5.900000  \n",
       "10     6.250000  \n",
       "11     5.900000  "
      ]
     },
     "execution_count": 284,
     "metadata": {},
     "output_type": "execute_result"
    }
   ],
   "source": [
    "# select total gross and average rating for all the movies in 2018 and group by geres\n",
    "q7 = \"\"\"SELECT main_genres, title, sum(world_gross) as gross_2018, AVG(averagerating) as rating_2018\n",
    "         FROM\n",
    "            combined_IMDB_bom c\n",
    "         WHERE c.year = 2018\n",
    "         group by c.main_genres\n",
    "         ORDER BY  c.world_gross desc\n",
    "         \n",
    "         \n",
    "               ;\"\"\"\n",
    "combined_IMDB_bom_gross_2018 = pysqldf(q7)\n",
    "combined_IMDB_bom_gross_2018"
   ]
  },
  {
   "cell_type": "code",
   "execution_count": 286,
   "metadata": {},
   "outputs": [
    {
     "data": {
      "text/plain": [
       "<matplotlib.collections.PathCollection at 0x27630aa9ca0>"
      ]
     },
     "execution_count": 286,
     "metadata": {},
     "output_type": "execute_result"
    },
    {
     "data": {
      "image/png": "[encoded data removed]",
      "text/plain": [
       "<Figure size 432x288 with 1 Axes>"
      ]
     },
     "metadata": {
      "needs_background": "light"
     },
     "output_type": "display_data"
    }
   ],
   "source": [
    "plt.scatter(combined_IMDB_bom_gross_2018.gross_2018, combined_IMDB_bom_gross_2018.rating_2018 )"
   ]
  },
  {
   "cell_type": "code",
   "execution_count": 289,
   "metadata": {
    "scrolled": false
   },
   "outputs": [
    {
     "data": {
      "text/plain": [
       "Text(0.5, 1.0, 'The rating of different Genres for the movies in 2018')"
      ]
     },
     "execution_count": 289,
     "metadata": {},
     "output_type": "execute_result"
    },
    {
     "data": {
      "image/png": "[encoded data removed]",
      "text/plain": [
       "<Figure size 1080x720 with 2 Axes>"
      ]
     },
     "metadata": {
      "needs_background": "light"
     },
     "output_type": "display_data"
    }
   ],
   "source": [
    "X = combined_IMDB_bom_gross_2018.main_genres\n",
    "Y_gross = combined_IMDB_bom_gross_2018.gross_2018\n",
    "Y_rating = combined_IMDB_bom_gross_2018.rating_2018\n",
    "fig, (ax1, ax2)  = plt.subplots(2, 1, figsize = (15, 10))\n",
    "\n",
    "ax1.bar (X, Y_gross, color = \"gold\")\n",
    "ax1.set_xlabel('Genres')\n",
    "ax1.set_ylabel('Gross')\n",
    "ax1.set_title('The total gross gross of different Genres for the movies in 2018')\n",
    "\n",
    "x_r = top_rating.main_genres\n",
    "y_rating  = top_rating['count_rating']\n",
    "ax2.bar (X, Y_rating, color = \"aquamarine\")\n",
    "ax2.set_xlabel('Genres')\n",
    "ax2.set_ylabel('Rating')\n",
    "ax2.set_title('The rating of different Genres for the movies in 2018')"
   ]
  },
  {
   "cell_type": "code",
   "execution_count": null,
   "metadata": {},
   "outputs": [],
   "source": []
  }
 ],
 "metadata": {
  "kernelspec": {
   "display_name": "Python 3",
   "language": "python",
   "name": "python3"
  },
  "language_info": {
   "codemirror_mode": {
    "name": "ipython",
    "version": 3
   },
   "file_extension": ".py",
   "mimetype": "text/x-python",
   "name": "python",
   "nbconvert_exporter": "python",
   "pygments_lexer": "ipython3",
   "version": "3.8.5"
  }
 },
 "nbformat": 4,
 "nbformat_minor": 2
}
